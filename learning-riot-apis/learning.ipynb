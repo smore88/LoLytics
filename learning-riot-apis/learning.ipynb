{
 "cells": [
  {
   "cell_type": "code",
   "execution_count": 72,
   "metadata": {},
   "outputs": [],
   "source": [
    "import requests\n",
    "import os\n",
    "from dotenv import load_dotenv\n",
    "from datetime import datetime\n",
    "import time\n",
    "import json"
   ]
  },
  {
   "cell_type": "markdown",
   "metadata": {},
   "source": [
    "# Accessing API Key Securely"
   ]
  },
  {
   "cell_type": "code",
   "execution_count": 7,
   "metadata": {},
   "outputs": [
    {
     "name": "stdout",
     "output_type": "stream",
     "text": [
      "RGAPI-2a85fdbb-ab1c-45b9-b25e-20215ff4a6c2\n"
     ]
    }
   ],
   "source": [
    "'''\n",
    "Securely Dealing with the API Key: First I need to learn about the riot apis and what information they\n",
    "actually provide me so in order to do that I will store the API Key as an env variable on my os for now.\n",
    "Once I actually start building the product I will use Hashi Corp Vault prod to do this.\n",
    "'''\n",
    "load_dotenv()\n",
    "api_key = os.getenv('API_KEY')\n",
    "print(api_key)"
   ]
  },
  {
   "cell_type": "markdown",
   "metadata": {},
   "source": [
    "# Understanding Workflow of Riot IDs"
   ]
  },
  {
   "cell_type": "code",
   "execution_count": 55,
   "metadata": {},
   "outputs": [],
   "source": [
    "# There are platform routing vals and also regional routing vals as well, look at the reference example from the Riot Dev Api site to see which\n",
    "# one does the url have\n",
    "regional_routing_url = \"https://americas.api.riotgames.com\""
   ]
  },
  {
   "cell_type": "code",
   "execution_count": 56,
   "metadata": {},
   "outputs": [
    {
     "name": "stdout",
     "output_type": "stream",
     "text": [
      "{'puuid': 'YiNBOnc_eNKyRiGMLrfEQ6d-s66XekPBprjgTl1_HFb8JvQiyW6hVt9hT7BLj92aC8UdSSy-Sq55ZQ', 'gameName': 'LemmeLastHit', 'tagLine': '5791'}\n"
     ]
    }
   ],
   "source": [
    "# Input: tagline, gameName, Output: json of puuid, tagline, gameName (ACCOUNT-V1)\n",
    "# PUUID is a unique identifer that is specific to each player across all RIOT Games\n",
    "gameName = \"LemmeLastHit\"\n",
    "tagline = \"5791\"\n",
    "puuid_url = f\"{regional_routing_url}/riot/account/v1/accounts/by-riot-id/{gameName}/{tagline}?api_key={api_key}\"\n",
    "resp = requests.get(puuid_url)\n",
    "data = resp.json()\n",
    "print(data)"
   ]
  },
  {
   "cell_type": "code",
   "execution_count": 57,
   "metadata": {},
   "outputs": [
    {
     "name": "stdout",
     "output_type": "stream",
     "text": [
      "{'puuid': 'YiNBOnc_eNKyRiGMLrfEQ6d-s66XekPBprjgTl1_HFb8JvQiyW6hVt9hT7BLj92aC8UdSSy-Sq55ZQ', 'gameName': 'LemmeLastHit', 'tagLine': '5791'}\n"
     ]
    }
   ],
   "source": [
    "# Input: puuid, output: json of puuid, tagline, gameName (SUMMONER-V4)\n",
    "puuid = data['puuid']\n",
    "gameName_tagLine_url = f\"{regional_routing_url}/riot/account/v1/accounts/by-puuid/{puuid}?api_key={api_key}\"\n",
    "resp = requests.get(puuid_url)\n",
    "data = resp.json()\n",
    "print(data)"
   ]
  },
  {
   "cell_type": "code",
   "execution_count": 58,
   "metadata": {},
   "outputs": [
    {
     "name": "stdout",
     "output_type": "stream",
     "text": [
      "{'puuid': 'YiNBOnc_eNKyRiGMLrfEQ6d-s66XekPBprjgTl1_HFb8JvQiyW6hVt9hT7BLj92aC8UdSSy-Sq55ZQ', 'gameName': 'LemmeLastHit', 'tagLine': '5791'}\n"
     ]
    }
   ],
   "source": [
    "riotId_from_puuid_url = f\"{regional_routing_url}/riot/account/v1/accounts/by-puuid/{puuid}?api_key={api_key}\"\n",
    "resp = requests.get(riotId_from_puuid_url)\n",
    "data = resp.json()\n",
    "print(data)"
   ]
  },
  {
   "cell_type": "markdown",
   "metadata": {},
   "source": [
    "### Match Data "
   ]
  },
  {
   "cell_type": "code",
   "execution_count": 59,
   "metadata": {},
   "outputs": [
    {
     "name": "stdout",
     "output_type": "stream",
     "text": [
      "{'puuid': 'YiNBOnc_eNKyRiGMLrfEQ6d-s66XekPBprjgTl1_HFb8JvQiyW6hVt9hT7BLj92aC8UdSSy-Sq55ZQ', 'gameName': 'LemmeLastHit', 'tagLine': '5791'}\n"
     ]
    }
   ],
   "source": [
    "# Aggregate Match ID's for a specific player do this from RiotID\n",
    "gameName = \"LemmeLastHit\"\n",
    "tagline = \"5791\"\n",
    "puuid_url = f\"{regional_routing_url}/riot/account/v1/accounts/by-riot-id/{gameName}/{tagline}?api_key={api_key}\"\n",
    "resp = requests.get(puuid_url)\n",
    "data = resp.json() # contains the puuid"
   ]
  },
  {
   "cell_type": "code",
   "execution_count": 66,
   "metadata": {},
   "outputs": [
    {
     "name": "stdout",
     "output_type": "stream",
     "text": [
      "['NA1_4981409911', 'NA1_4980923487', 'NA1_4977215784', 'NA1_4977071623', 'NA1_4976995986', 'NA1_4976810761', 'NA1_4976448607', 'NA1_4976264924', 'NA1_4974928949', 'NA1_4974698313', 'NA1_4974565860', 'NA1_4974228695', 'NA1_4973815844', 'NA1_4973788080', 'NA1_4973622938', 'NA1_4973330751', 'NA1_4973276476', 'NA1_4972950893', 'NA1_4971482693', 'NA1_4971451861', 'NA1_4970796047', 'NA1_4970280543', 'NA1_4969947975', 'NA1_4969591951', 'NA1_4969574148', 'NA1_4969119101', 'NA1_4969089121', 'NA1_4968748740', 'NA1_4968244016', 'NA1_4967911629', 'NA1_4967888285', 'NA1_4967152782', 'NA1_4967117791', 'NA1_4967026396', 'NA1_4966965548', 'NA1_4966024446', 'NA1_4965736834', 'NA1_4965599690', 'NA1_4963680148', 'NA1_4963218098', 'NA1_4963043581', 'NA1_4962261930', 'NA1_4955900298', 'NA1_4955818514', 'NA1_4955731490', 'NA1_4954594743', 'NA1_4953859247', 'NA1_4953679341', 'NA1_4952876521', 'NA1_4951808372', 'NA1_4951023905', 'NA1_4950997899', 'NA1_4948947352', 'NA1_4948919128', 'NA1_4948830284', 'NA1_4946123199', 'NA1_4946103354', 'NA1_4945822624', 'NA1_4945798998', 'NA1_4945767952', 'NA1_4945709843', 'NA1_4945444187', 'NA1_4945390891', 'NA1_4945371170', 'NA1_4945314950', 'NA1_4945083299', 'NA1_4944952815', 'NA1_4944914909', 'NA1_4944870628', 'NA1_4944845716', 'NA1_4944810928', 'NA1_4944558049', 'NA1_4944545422', 'NA1_4944536583', 'NA1_4944337794', 'NA1_4944321763', 'NA1_4944280880', 'NA1_4944233633', 'NA1_4944073787', 'NA1_4944051127', 'NA1_4944007564', 'NA1_4943984007', 'NA1_4941977356', 'NA1_4941810082', 'NA1_4941777780', 'NA1_4941752978', 'NA1_4941551318', 'NA1_4941525466', 'NA1_4941442678', 'NA1_4941409345', 'NA1_4941390852', 'NA1_4941344498', 'NA1_4941333121', 'NA1_4941310130', 'NA1_4940934050', 'NA1_4940885584', 'NA1_4940855021', 'NA1_4940786961', 'NA1_4940428370', 'NA1_4940031360']\n"
     ]
    }
   ],
   "source": [
    "def human_date_to_epoch(year, month, day, hour=0, minute=0, second=0):\n",
    "    dt = datetime(year, month, day, hour, minute, second)\n",
    "    timestamp = int(time.mktime(dt.timetuple()))\n",
    "    return timestamp\n",
    "\n",
    "endTime = human_date_to_epoch(2024, 4, 23)\n",
    "startTime = human_date_to_epoch(2023, 4, 23)\n",
    "queue = 420\n",
    "type = \"ranked\"\n",
    "start = 0\n",
    "count = 100\n",
    "\n",
    "# print(startTime)\n",
    "# print(endTime)\n",
    "\n",
    "aggregate_matches_url = f\"{regional_routing_url}/lol/match/v5/matches/by-puuid/{puuid}/ids?queue={queue}&type={type}&start={start}&count={count}&api_key={api_key}\"\n",
    "resp = requests.get(aggregate_matches_url)\n",
    "matchIds = resp.json() \n",
    "# print(matchIds)"
   ]
  },
  {
   "cell_type": "code",
   "execution_count": 74,
   "metadata": {},
   "outputs": [],
   "source": [
    "# Access statistics from one of the matches\n",
    "matchId = matchIds[-1]\n",
    "match_results_url = f\"{regional_routing_url}/lol/match/v5/matches/{matchId}?api_key={api_key}\"\n",
    "resp = requests.get(match_results_url)\n",
    "\n",
    "if resp.status_code == 200:\n",
    "\tmatch_data = resp.json()\n",
    "\tfilename = f'match_results_{matchId}.json'\n",
    "\twith open(filename, 'w') as f:\n",
    "\t\tjson.dump(match_data, f, indent=4)"
   ]
  }
 ],
 "metadata": {
  "kernelspec": {
   "display_name": "riotdevproj",
   "language": "python",
   "name": "python3"
  },
  "language_info": {
   "codemirror_mode": {
    "name": "ipython",
    "version": 3
   },
   "file_extension": ".py",
   "mimetype": "text/x-python",
   "name": "python",
   "nbconvert_exporter": "python",
   "pygments_lexer": "ipython3",
   "version": "3.11.5"
  }
 },
 "nbformat": 4,
 "nbformat_minor": 2
}
